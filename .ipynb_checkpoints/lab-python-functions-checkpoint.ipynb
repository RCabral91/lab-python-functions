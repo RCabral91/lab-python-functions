{
 "cells": [
  {
   "cell_type": "markdown",
   "id": "25d7736c-ba17-4aff-b6bb-66eba20fbf4e",
   "metadata": {},
   "source": [
    "# Lab | Functions"
   ]
  },
  {
   "cell_type": "markdown",
   "id": "0c581062-8967-4d93-b06e-62833222f930",
   "metadata": {
    "tags": []
   },
   "source": [
    "## Exercise: Managing Customer Orders with Functions\n",
    "\n",
    "In the previous exercise, you improved the code for managing customer orders by using loops and flow control. Now, let's take it a step further and refactor the code by introducing functions.\n",
    "\n",
    "Follow the steps below to complete the exercise:\n",
    "\n",
    "1. Define a function named `initialize_inventory` that takes `products` as a parameter. Inside the function, implement the code for initializing the inventory dictionary using a loop and user input.\n",
    "\n",
    "2. Define a function named `get_customer_orders` that takes no parameters. Inside the function, implement the code for prompting the user to enter the product names using a loop. The function should return the `customer_orders` set.\n",
    "\n",
    "3. Define a function named `update_inventory` that takes `customer_orders` and `inventory` as parameters. Inside the function, implement the code for updating the inventory dictionary based on the customer orders.\n",
    "\n",
    "4. Define a function named `calculate_order_statistics` that takes `customer_orders` and `products` as parameters. Inside the function, implement the code for calculating the order statistics (total products ordered, and percentage of unique products ordered). The function should return these values.\n",
    "\n",
    "5. Define a function named `print_order_statistics` that takes `order_statistics` as a parameter. Inside the function, implement the code for printing the order statistics.\n",
    "\n",
    "6. Define a function named `print_updated_inventory` that takes `inventory` as a parameter. Inside the function, implement the code for printing the updated inventory.\n",
    "\n",
    "7. Call the functions in the appropriate sequence to execute the program and manage customer orders.\n",
    "\n",
    "Hints for functions:\n",
    "\n",
    "- Consider the input parameters required for each function and their return values.\n",
    "- Utilize function parameters and return values to transfer data between functions.\n",
    "- Test your functions individually to ensure they work correctly.\n",
    "\n",
    "\n"
   ]
  },
  {
   "cell_type": "code",
   "execution_count": 9,
   "id": "b335e60b-2ebb-46b1-b72f-3310003348ab",
   "metadata": {},
   "outputs": [
    {
     "name": "stdin",
     "output_type": "stream",
     "text": [
      "Enter the quantity of t-shirts:  5\n",
      "Enter the quantity of mugs:  0\n",
      "Enter the quantity of hats:  0\n",
      "Enter the quantity of books:  0\n",
      "Enter the quantity of keychains:  0\n",
      "Order your product:  t-shirts\n"
     ]
    },
    {
     "name": "stdout",
     "output_type": "stream",
     "text": [
      "Product not found\n"
     ]
    },
    {
     "name": "stdin",
     "output_type": "stream",
     "text": [
      "Do you want another product? (yes/no):  yes\n",
      "Order your product:  t-shirt\n",
      "Do you want another product? (yes/no):  yes\n",
      "Order your product:  hat\n",
      "Do you want another product? (yes/no):  no\n"
     ]
    },
    {
     "name": "stdout",
     "output_type": "stream",
     "text": [
      "Order Statistics: \n",
      "Total products ordered: 2\n",
      "Percentage of products ordered: 40.0 %\n",
      "Updated inventory: \n",
      "t-shirt: 4\n",
      "mug: 0\n",
      "hat: 0\n",
      "book: 0\n",
      "keychain: 0\n"
     ]
    }
   ],
   "source": [
    "def initialize_inventory(products):\n",
    "    inventory = {}\n",
    "    for product in products:\n",
    "        quantity = int(input(f\"Enter the quantity of {product}s: \"))\n",
    "        inventory[product] = quantity\n",
    "    return inventory\n",
    "\n",
    "def get_customer_orders(products):\n",
    "    customer_orders = set()\n",
    "    answer = \"yes\"\n",
    "    while answer == \"yes\":\n",
    "        order = input(\"Order your product: \").lower()\n",
    "        if order in products:\n",
    "            customer_orders.add(order)\n",
    "        else:\n",
    "            print(\"Product not found\")\n",
    "        answer = input(\"Do you want another product? (yes/no): \").lower()\n",
    "    return customer_orders\n",
    "\n",
    "def update_inventory(customer_orders, inventory):\n",
    "    for item in customer_orders:\n",
    "        if item in inventory and inventory[item] > 0:\n",
    "            inventory[item] -= 1\n",
    "\n",
    "def calculate_order_statistics(customer_orders, products):\n",
    "    total_products_ordered = len(customer_orders)\n",
    "    percentage_ordered = (total_products_ordered / len(products)) * 100\n",
    "    return total_products_ordered, percentage_ordered\n",
    "\n",
    "def print_order_statistics(order_statistics):\n",
    "    print(\"Order Statistics: \")\n",
    "    print(f\"Total products ordered: {order_statistics[0]}\")\n",
    "    print(f\"Percentage of products ordered: {order_statistics[1]} %\")\n",
    "\n",
    "def print_updated_inventory(inventory):\n",
    "    print(\"Updated inventory: \")\n",
    "    for product in inventory:\n",
    "        print(f\"{product}: {inventory[product]}\")\n",
    "\n",
    "products = [\"t-shirt\", \"mug\", \"hat\", \"book\", \"keychain\"]\n",
    "inventory = initialize_inventory(products)\n",
    "customer_orders = get_customer_orders(products)\n",
    "order_statistics = calculate_order_statistics(customer_orders, products)\n",
    "print_order_statistics(order_statistics)\n",
    "update_inventory(customer_orders, inventory)\n",
    "print_updated_inventory(inventory)\n"
   ]
  },
  {
   "cell_type": "code",
   "execution_count": null,
   "id": "c967437b-1113-4e01-8c2f-44834b4a710d",
   "metadata": {},
   "outputs": [],
   "source": []
  }
 ],
 "metadata": {
  "kernelspec": {
   "display_name": "Python 3",
   "language": "python",
   "name": "python3"
  },
  "language_info": {
   "codemirror_mode": {
    "name": "ipython",
    "version": 3
   },
   "file_extension": ".py",
   "mimetype": "text/x-python",
   "name": "python",
   "nbconvert_exporter": "python",
   "pygments_lexer": "ipython3",
   "version": "3.11.7"
  }
 },
 "nbformat": 4,
 "nbformat_minor": 5
}
